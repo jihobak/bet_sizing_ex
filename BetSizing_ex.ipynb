{
 "cells": [
  {
   "cell_type": "markdown",
   "metadata": {},
   "source": [
    "# Kelly, Bet sizing"
   ]
  },
  {
   "cell_type": "code",
   "execution_count": 2,
   "metadata": {},
   "outputs": [],
   "source": [
    "import numpy as np\n",
    "import pandas as pd"
   ]
  },
  {
   "cell_type": "code",
   "execution_count": 29,
   "metadata": {},
   "outputs": [],
   "source": [
    "from scipy import optimize\n",
    "from scipy.optimize import minimize_scalar, newton, minimize, fsolve\n",
    "from scipy.stats import pearson3\n",
    "\n",
    "from scipy.integrate import quad\n",
    "from scipy.stats import norm"
   ]
  },
  {
   "cell_type": "markdown",
   "metadata": {},
   "source": [
    "## Discrete"
   ]
  },
  {
   "cell_type": "code",
   "execution_count": 4,
   "metadata": {},
   "outputs": [],
   "source": [
    "def optimal_kelly(odds, win_probability):\n",
    "    edge = (1+odds)*(win_probability)-1\n",
    "    optimal_fraction = edge/odds\n",
    "    return optimal_fraction"
   ]
  },
  {
   "cell_type": "code",
   "execution_count": 5,
   "metadata": {},
   "outputs": [],
   "source": [
    "odds = 1\n",
    "p = 0.53"
   ]
  },
  {
   "cell_type": "code",
   "execution_count": 6,
   "metadata": {},
   "outputs": [
    {
     "data": {
      "text/plain": [
       "0.06000000000000005"
      ]
     },
     "execution_count": 6,
     "metadata": {},
     "output_type": "execute_result"
    }
   ],
   "source": [
    "optimal_kelly(odds, p)"
   ]
  },
  {
   "cell_type": "markdown",
   "metadata": {},
   "source": [
    "## Continious"
   ]
  },
  {
   "cell_type": "markdown",
   "metadata": {},
   "source": [
    "#### Single Asset"
   ]
  },
  {
   "cell_type": "markdown",
   "metadata": {},
   "source": [
    "Assuming that the probability distribution of returns is Gaussian"
   ]
  },
  {
   "cell_type": "markdown",
   "metadata": {},
   "source": [
    "$$f = \\frac{m}{s^2}$$"
   ]
  },
  {
   "cell_type": "code",
   "execution_count": 7,
   "metadata": {},
   "outputs": [],
   "source": [
    "# from \"2019-03-11\" to \"2020-03-10\"\n",
    "prices_df = pd.read_csv(\"sp50_1year.csv\", index_col=0)"
   ]
  },
  {
   "cell_type": "code",
   "execution_count": 8,
   "metadata": {},
   "outputs": [
    {
     "data": {
      "text/plain": [
       "Date\n",
       "2019-03-11    39.029999\n",
       "2019-03-12    39.250000\n",
       "2019-03-13    38.830002\n",
       "2019-03-14    38.410000\n",
       "2019-03-15    39.540001\n",
       "                ...    \n",
       "2020-03-04    55.290001\n",
       "2020-03-05    53.720001\n",
       "2020-03-06    51.470001\n",
       "2020-03-09    45.970001\n",
       "2020-03-10    47.860001\n",
       "Name: MU, Length: 253, dtype: float64"
      ]
     },
     "execution_count": 8,
     "metadata": {},
     "output_type": "execute_result"
    }
   ],
   "source": [
    "# Micron Technology\n",
    "prices_df['MU']"
   ]
  },
  {
   "cell_type": "code",
   "execution_count": 9,
   "metadata": {},
   "outputs": [],
   "source": [
    "daily_log_returns = np.log(prices_df['MU']/prices_df['MU'].shift(1))\n",
    "daily_log_returns.fillna(0, inplace=True)"
   ]
  },
  {
   "cell_type": "code",
   "execution_count": 10,
   "metadata": {},
   "outputs": [],
   "source": [
    "def optimal_kelly_leverage(excess_return_series, risk_free, annualize_factor):\n",
    "    \"\"\"\n",
    "    In this method, we assume that our distribution of excess return is Gaussian.\n",
    "    We can expect maximized growth rate of our asset if we keep kelly leverage.\n",
    "    \"\"\"\n",
    "    annualized_log_returns = excess_return_series*annualize_factor\n",
    "    annualized_std = np.std(excess_return_series)*np.sqrt(annualize_factor)\n",
    "    \n",
    "    mean_excess_return = np.mean(annualized_log_returns) - risk_free\n",
    "    \n",
    "    kelly_leverage = mean_excess_return/annualized_std**2\n",
    "    maximum_growth_rate = risk_free + kelly_leverage*mean_excess_return - (annualized_std*kelly_leverage)**2/2\n",
    "    \n",
    "    return kelly_leverage, maximum_growth_rate"
   ]
  },
  {
   "cell_type": "code",
   "execution_count": 11,
   "metadata": {},
   "outputs": [
    {
     "data": {
      "text/plain": [
       "(0.9623939353487783, 0.10449164735019847)"
      ]
     },
     "execution_count": 11,
     "metadata": {},
     "output_type": "execute_result"
    }
   ],
   "source": [
    "optimal_kelly_leverage(daily_log_returns, risk_free=0.01, annualize_factor=256)"
   ]
  },
  {
   "cell_type": "markdown",
   "metadata": {},
   "source": [
    "#### Montecarlo optimal leverage\n"
   ]
  },
  {
   "cell_type": "code",
   "execution_count": 12,
   "metadata": {},
   "outputs": [],
   "source": [
    "def g(f, R):\n",
    "    return np.sum(np.log(1+f*R), axis=0)/R.shape[0]\n",
    "\n",
    "def monte_carlo_optimal_leverage(return_series, random_state, size):\n",
    "    # Return MLEs for shape (if applicable), location, and scale parameters from data.\n",
    "    skew_, loc_, scale_ = pearson3.fit(return_series)\n",
    "    mean, var, skew, kurt = pearson3.stats(skew_, loc_, scale_, moments='mvks')\n",
    "    \n",
    "    return_samples = pearson3.rvs(skew_, loc_, scale_, size=size, random_state=random_state)\n",
    "    \n",
    "    minusGsim = lambda f : -g(f, return_samples)\n",
    "    res = minimize(minusGsim, 0, method='Nelder-Mead')\n",
    "    optimalF=res.x\n",
    "    \n",
    "    print('Optimal leverage=%f optimal growth rate=%f' % (optimalF, -res.fun))\n",
    "    \n",
    "    return optimalF, -res.fun"
   ]
  },
  {
   "cell_type": "code",
   "execution_count": 14,
   "metadata": {},
   "outputs": [
    {
     "name": "stdout",
     "output_type": "stream",
     "text": [
      "Optimal leverage=0.004563 optimal growth rate=0.000532\n"
     ]
    },
    {
     "data": {
      "text/plain": [
       "(array([0.0045625]), 0.0005321404727280112)"
      ]
     },
     "execution_count": 14,
     "metadata": {},
     "output_type": "execute_result"
    }
   ],
   "source": [
    "monte_carlo_optimal_leverage(daily_log_returns*256, random_state=0, size=10000)"
   ]
  },
  {
   "cell_type": "markdown",
   "metadata": {},
   "source": [
    "\n",
    "\n"
   ]
  },
  {
   "cell_type": "markdown",
   "metadata": {},
   "source": [
    "#### multiple assets, Optimal Allocation"
   ]
  },
  {
   "cell_type": "code",
   "execution_count": 15,
   "metadata": {},
   "outputs": [],
   "source": [
    "from numpy.linalg import inv"
   ]
  },
  {
   "cell_type": "markdown",
   "metadata": {},
   "source": [
    "$$F^* = C^{-1}M$$"
   ]
  },
  {
   "cell_type": "code",
   "execution_count": 16,
   "metadata": {},
   "outputs": [
    {
     "data": {
      "text/plain": [
       "['ADM', 'AGN', 'AIV', 'ALL', 'ALLE']"
      ]
     },
     "execution_count": 16,
     "metadata": {},
     "output_type": "execute_result"
    }
   ],
   "source": [
    "tickers = list(prices_df)[:5]\n",
    "tickers"
   ]
  },
  {
   "cell_type": "code",
   "execution_count": 17,
   "metadata": {},
   "outputs": [],
   "source": [
    "target = prices_df[tickers]\n",
    "log_returns = np.log(target/target.shift(1)).dropna()"
   ]
  },
  {
   "cell_type": "code",
   "execution_count": 18,
   "metadata": {},
   "outputs": [
    {
     "data": {
      "text/html": [
       "<div>\n",
       "<style scoped>\n",
       "    .dataframe tbody tr th:only-of-type {\n",
       "        vertical-align: middle;\n",
       "    }\n",
       "\n",
       "    .dataframe tbody tr th {\n",
       "        vertical-align: top;\n",
       "    }\n",
       "\n",
       "    .dataframe thead th {\n",
       "        text-align: right;\n",
       "    }\n",
       "</style>\n",
       "<table border=\"1\" class=\"dataframe\">\n",
       "  <thead>\n",
       "    <tr style=\"text-align: right;\">\n",
       "      <th></th>\n",
       "      <th>ADM</th>\n",
       "      <th>AGN</th>\n",
       "      <th>AIV</th>\n",
       "      <th>ALL</th>\n",
       "      <th>ALLE</th>\n",
       "    </tr>\n",
       "    <tr>\n",
       "      <th>Date</th>\n",
       "      <th></th>\n",
       "      <th></th>\n",
       "      <th></th>\n",
       "      <th></th>\n",
       "      <th></th>\n",
       "    </tr>\n",
       "  </thead>\n",
       "  <tbody>\n",
       "    <tr>\n",
       "      <th>2019-03-12</th>\n",
       "      <td>0.001633</td>\n",
       "      <td>0.007609</td>\n",
       "      <td>0.009189</td>\n",
       "      <td>-0.000425</td>\n",
       "      <td>0.002593</td>\n",
       "    </tr>\n",
       "    <tr>\n",
       "      <th>2019-03-13</th>\n",
       "      <td>0.008355</td>\n",
       "      <td>0.018174</td>\n",
       "      <td>0.000596</td>\n",
       "      <td>-0.005543</td>\n",
       "      <td>0.009302</td>\n",
       "    </tr>\n",
       "    <tr>\n",
       "      <th>2019-03-14</th>\n",
       "      <td>0.001847</td>\n",
       "      <td>-0.004462</td>\n",
       "      <td>0.008903</td>\n",
       "      <td>0.003202</td>\n",
       "      <td>-0.006736</td>\n",
       "    </tr>\n",
       "    <tr>\n",
       "      <th>2019-03-15</th>\n",
       "      <td>-0.003929</td>\n",
       "      <td>0.009633</td>\n",
       "      <td>0.000197</td>\n",
       "      <td>0.010493</td>\n",
       "      <td>-0.004064</td>\n",
       "    </tr>\n",
       "    <tr>\n",
       "      <th>2019-03-18</th>\n",
       "      <td>-0.016344</td>\n",
       "      <td>-0.002715</td>\n",
       "      <td>-0.019688</td>\n",
       "      <td>0.001896</td>\n",
       "      <td>0.005527</td>\n",
       "    </tr>\n",
       "    <tr>\n",
       "      <th>...</th>\n",
       "      <td>...</td>\n",
       "      <td>...</td>\n",
       "      <td>...</td>\n",
       "      <td>...</td>\n",
       "      <td>...</td>\n",
       "    </tr>\n",
       "    <tr>\n",
       "      <th>2020-03-04</th>\n",
       "      <td>0.033840</td>\n",
       "      <td>0.020626</td>\n",
       "      <td>0.034917</td>\n",
       "      <td>0.047481</td>\n",
       "      <td>0.041124</td>\n",
       "    </tr>\n",
       "    <tr>\n",
       "      <th>2020-03-05</th>\n",
       "      <td>-0.026771</td>\n",
       "      <td>-0.015688</td>\n",
       "      <td>-0.017306</td>\n",
       "      <td>-0.054281</td>\n",
       "      <td>-0.013765</td>\n",
       "    </tr>\n",
       "    <tr>\n",
       "      <th>2020-03-06</th>\n",
       "      <td>-0.018166</td>\n",
       "      <td>-0.004885</td>\n",
       "      <td>-0.011974</td>\n",
       "      <td>-0.012245</td>\n",
       "      <td>-0.023511</td>\n",
       "    </tr>\n",
       "    <tr>\n",
       "      <th>2020-03-09</th>\n",
       "      <td>-0.064184</td>\n",
       "      <td>-0.034396</td>\n",
       "      <td>-0.054034</td>\n",
       "      <td>-0.113859</td>\n",
       "      <td>-0.040892</td>\n",
       "    </tr>\n",
       "    <tr>\n",
       "      <th>2020-03-10</th>\n",
       "      <td>0.050273</td>\n",
       "      <td>0.020018</td>\n",
       "      <td>0.040898</td>\n",
       "      <td>0.037465</td>\n",
       "      <td>0.029052</td>\n",
       "    </tr>\n",
       "  </tbody>\n",
       "</table>\n",
       "<p>252 rows × 5 columns</p>\n",
       "</div>"
      ],
      "text/plain": [
       "                 ADM       AGN       AIV       ALL      ALLE\n",
       "Date                                                        \n",
       "2019-03-12  0.001633  0.007609  0.009189 -0.000425  0.002593\n",
       "2019-03-13  0.008355  0.018174  0.000596 -0.005543  0.009302\n",
       "2019-03-14  0.001847 -0.004462  0.008903  0.003202 -0.006736\n",
       "2019-03-15 -0.003929  0.009633  0.000197  0.010493 -0.004064\n",
       "2019-03-18 -0.016344 -0.002715 -0.019688  0.001896  0.005527\n",
       "...              ...       ...       ...       ...       ...\n",
       "2020-03-04  0.033840  0.020626  0.034917  0.047481  0.041124\n",
       "2020-03-05 -0.026771 -0.015688 -0.017306 -0.054281 -0.013765\n",
       "2020-03-06 -0.018166 -0.004885 -0.011974 -0.012245 -0.023511\n",
       "2020-03-09 -0.064184 -0.034396 -0.054034 -0.113859 -0.040892\n",
       "2020-03-10  0.050273  0.020018  0.040898  0.037465  0.029052\n",
       "\n",
       "[252 rows x 5 columns]"
      ]
     },
     "execution_count": 18,
     "metadata": {},
     "output_type": "execute_result"
    }
   ],
   "source": [
    "log_returns"
   ]
  },
  {
   "cell_type": "code",
   "execution_count": 19,
   "metadata": {},
   "outputs": [],
   "source": [
    "risk_free = 0.01"
   ]
  },
  {
   "cell_type": "code",
   "execution_count": 20,
   "metadata": {},
   "outputs": [],
   "source": [
    "def optimal_kelly_allocation(returns_matrix, risk_free, annualize_factor):\n",
    "    \"\"\"\n",
    "    \"\"\"\n",
    "    excess_returns = returns_matrix - risk_free/annualize_factor\n",
    "    M = excess_returns.mean() * annualize_factor\n",
    "    C = excess_returns.cov() * annualize_factor\n",
    "    \n",
    "    # Kelly\n",
    "    F = np.dot(inv(C), M)\n",
    "    \n",
    "    # Annualized compounded growth rate\n",
    "    g = risk_free + F.T.dot(C).dot(F)/2\n",
    "    return F, g"
   ]
  },
  {
   "cell_type": "code",
   "execution_count": 21,
   "metadata": {},
   "outputs": [
    {
     "data": {
      "text/plain": [
       "(array([-5.96507684,  2.63869778, -2.38328886,  1.05329052,  8.21475191]),\n",
       " 1.961056422047869)"
      ]
     },
     "execution_count": 21,
     "metadata": {},
     "output_type": "execute_result"
    }
   ],
   "source": [
    "F, g = optimal_kelly_allocation(log_returns, risk_free=0.01, annualize_factor=256)\n",
    "F, g"
   ]
  },
  {
   "cell_type": "markdown",
   "metadata": {},
   "source": [
    "\n",
    "\n"
   ]
  },
  {
   "cell_type": "markdown",
   "metadata": {},
   "source": [
    "#### The kelly Criterion and the Sotck market "
   ]
  },
  {
   "cell_type": "markdown",
   "metadata": {},
   "source": [
    "resource: [Betting with the Kelly criterion](https://quantdare.com/kelly-criterion/)"
   ]
  },
  {
   "cell_type": "code",
   "execution_count": 22,
   "metadata": {},
   "outputs": [],
   "source": [
    "def norm_dev_integral(f, m, st):\n",
    "    val,er = quad(lambda s: (s/(1+f*s))*norm.pdf(s,m,st),m-3*st,m+3*st)\n",
    "    return val"
   ]
  },
  {
   "cell_type": "code",
   "execution_count": 23,
   "metadata": {},
   "outputs": [
    {
     "name": "stdout",
     "output_type": "stream",
     "text": [
      "Optimal Kelly fraction: 1.1974\n"
     ]
    }
   ],
   "source": [
    "# Reference values from Eduard Thorp's article\n",
    "m = .058\n",
    "s = .216\n",
    "\n",
    "x0 = newton(norm_dev_integral, 1.0, args=(m,s))\n",
    "print('Optimal Kelly fraction: {:.4f}'.format(x0))\n"
   ]
  },
  {
   "cell_type": "markdown",
   "metadata": {},
   "source": [
    "\n"
   ]
  },
  {
   "cell_type": "markdown",
   "metadata": {},
   "source": [
    " "
   ]
  },
  {
   "cell_type": "markdown",
   "metadata": {},
   "source": [
    "I changed above a little to implement the paper as same as possible. I'm not sure this is correct\n",
    "\n",
    "> paper: The Kelly Criterion and the Stock Market by Louis M.Rotando and Edward O. Thorp"
   ]
  },
  {
   "cell_type": "code",
   "execution_count": 27,
   "metadata": {},
   "outputs": [],
   "source": [
    "def get_adjusted_sigma(mu, sigma, h):\n",
    "    def func(alpha, mu=mu, sigma=sigma, h=h):\n",
    "        value, error = quad(lambda s: s**2*(norm.pdf(s, mu, sigma)+h), mu-3*sigma, mu+3*sigma)\n",
    "        return value-mu**2-sigma**2\n",
    "    \n",
    "    # use std as initial value\n",
    "    answer = optimize.fsolve(func, sigma)\n",
    "    return answer[0]\n",
    "    \n",
    "def quasi_normal_dev_integral(fraction, mu, sigma):\n",
    "    \n",
    "    # base_line = (B-A)\n",
    "    base_line= (mu+3*sigma) - (mu-3*sigma)\n",
    "\n",
    "    # h = area/base_line\n",
    "    h = (1-(norm(0, 1).cdf(3.) - norm(0, 1).cdf(-3.)))/base_line\n",
    "    \n",
    "    alpha = get_adjusted_sigma(mu, sigma, h)\n",
    "    \n",
    "    pdf_of_return = lambda x: norm.pdf(x, mu, alpha)+h\n",
    "        \n",
    "    value, error = quad(lambda s:(s/(1+fraction*s)) * pdf_of_return(s), mu-3*sigma, mu+3*sigma)\n",
    "    return value"
   ]
  },
  {
   "cell_type": "code",
   "execution_count": 30,
   "metadata": {},
   "outputs": [
    {
     "name": "stderr",
     "output_type": "stream",
     "text": [
      "/opt/conda/lib/python3.7/site-packages/scipy/optimize/minpack.py:162: RuntimeWarning: The iteration is not making good progress, as measured by the \n",
      "  improvement from the last ten iterations.\n",
      "  warnings.warn(msg, RuntimeWarning)\n"
     ]
    },
    {
     "name": "stdout",
     "output_type": "stream",
     "text": [
      "Optimal Kelly fraction: 1.1906\n"
     ]
    }
   ],
   "source": [
    "# Reference values from Eduard Thorp's article\n",
    "m = .058\n",
    "s = .216\n",
    "x0 = newton(quasi_normal_dev_integral,1.0,args=(m,s))\n",
    "print('Optimal Kelly fraction: {:.4f}'.format(x0))\n"
   ]
  }
 ],
 "metadata": {
  "kernelspec": {
   "display_name": "Python 3",
   "language": "python",
   "name": "python3"
  },
  "language_info": {
   "codemirror_mode": {
    "name": "ipython",
    "version": 3
   },
   "file_extension": ".py",
   "mimetype": "text/x-python",
   "name": "python",
   "nbconvert_exporter": "python",
   "pygments_lexer": "ipython3",
   "version": "3.7.4"
  }
 },
 "nbformat": 4,
 "nbformat_minor": 4
}
