{
 "cells": [
  {
   "cell_type": "markdown",
   "metadata": {},
   "source": [
    "# Kelly, Bet sizing"
   ]
  },
  {
   "cell_type": "code",
   "execution_count": 168,
   "metadata": {},
   "outputs": [],
   "source": [
    "import numpy as np\n",
    "import pandas as pd"
   ]
  },
  {
   "cell_type": "code",
   "execution_count": 141,
   "metadata": {},
   "outputs": [],
   "source": [
    "from scipy.optimize import minimize_scalar, newton, minimize\n",
    "from scipy.integrate import quad\n",
    "from scipy.stats import norm"
   ]
  },
  {
   "cell_type": "markdown",
   "metadata": {},
   "source": [
    "## Discrete"
   ]
  },
  {
   "cell_type": "code",
   "execution_count": 162,
   "metadata": {},
   "outputs": [],
   "source": [
    "def optimal_kelly(odds, win_probability):\n",
    "    edge = (1+odds)*(win_probability)-1\n",
    "    return edge/odds"
   ]
  },
  {
   "cell_type": "code",
   "execution_count": 163,
   "metadata": {},
   "outputs": [],
   "source": [
    "odds = 1\n",
    "p = 0.53"
   ]
  },
  {
   "cell_type": "code",
   "execution_count": 164,
   "metadata": {},
   "outputs": [
    {
     "data": {
      "text/plain": [
       "0.06000000000000005"
      ]
     },
     "execution_count": 164,
     "metadata": {},
     "output_type": "execute_result"
    }
   ],
   "source": [
    "optimal_kelly(odds, p)"
   ]
  },
  {
   "cell_type": "markdown",
   "metadata": {},
   "source": [
    "## Continious"
   ]
  },
  {
   "cell_type": "markdown",
   "metadata": {},
   "source": [
    "#### Single Asset"
   ]
  },
  {
   "cell_type": "markdown",
   "metadata": {},
   "source": [
    "Assuming that the probability distribution of returns is Gaussian"
   ]
  },
  {
   "cell_type": "markdown",
   "metadata": {},
   "source": [
    "$$f = \\frac{m}{s^2}$$"
   ]
  },
  {
   "cell_type": "code",
   "execution_count": 174,
   "metadata": {},
   "outputs": [],
   "source": [
    "# from \"2019-03-11\" to \"2020-03-10\"\n",
    "prices_df = pd.read_csv(\"sp50_1year.csv\", index_col=0)"
   ]
  },
  {
   "cell_type": "code",
   "execution_count": 182,
   "metadata": {},
   "outputs": [
    {
     "data": {
      "text/plain": [
       "Date\n",
       "2019-03-11    39.029999\n",
       "2019-03-12    39.250000\n",
       "2019-03-13    38.830002\n",
       "2019-03-14    38.410000\n",
       "2019-03-15    39.540001\n",
       "                ...    \n",
       "2020-03-04    55.290001\n",
       "2020-03-05    53.720001\n",
       "2020-03-06    51.470001\n",
       "2020-03-09    45.970001\n",
       "2020-03-10    47.860001\n",
       "Name: MU, Length: 253, dtype: float64"
      ]
     },
     "execution_count": 182,
     "metadata": {},
     "output_type": "execute_result"
    }
   ],
   "source": [
    "# Micron Technology\n",
    "prices_df['MU']"
   ]
  },
  {
   "cell_type": "code",
   "execution_count": 187,
   "metadata": {},
   "outputs": [],
   "source": [
    "daily_log_returns = np.log(prices_df['MU']/prices_df['MU'].shift(1))\n",
    "daily_log_returns.fillna(0, inplace=True)"
   ]
  },
  {
   "cell_type": "code",
   "execution_count": 188,
   "metadata": {},
   "outputs": [
    {
     "data": {
      "text/plain": [
       "count    253.000000\n",
       "mean       0.000806\n",
       "std        0.028288\n",
       "min       -0.117552\n",
       "25%       -0.015485\n",
       "50%        0.000361\n",
       "75%        0.018850\n",
       "max        0.125235\n",
       "Name: MU, dtype: float64"
      ]
     },
     "execution_count": 188,
     "metadata": {},
     "output_type": "execute_result"
    }
   ],
   "source": [
    "daily_log_returns.describe()"
   ]
  },
  {
   "cell_type": "code",
   "execution_count": 190,
   "metadata": {},
   "outputs": [],
   "source": [
    "# Annualized Mean_return\n",
    "mean_return = np.mean(daily_log_returns)*256\n",
    "# Annualized standard dev\n",
    "std = np.std(daily_log_returns)*np.sqrt(256)"
   ]
  },
  {
   "cell_type": "code",
   "execution_count": 191,
   "metadata": {},
   "outputs": [
    {
     "data": {
      "text/plain": [
       "(0.20636791937171559, 0.4517090902944161)"
      ]
     },
     "execution_count": 191,
     "metadata": {},
     "output_type": "execute_result"
    }
   ],
   "source": [
    "mean_return, std"
   ]
  },
  {
   "cell_type": "code",
   "execution_count": 192,
   "metadata": {},
   "outputs": [],
   "source": [
    "risk_free = 0.01\n",
    "mean_excess_return = mean_return -risk_free"
   ]
  },
  {
   "cell_type": "code",
   "execution_count": 193,
   "metadata": {},
   "outputs": [],
   "source": [
    "kelly_fraction = mean_excess_return/std**2"
   ]
  },
  {
   "cell_type": "code",
   "execution_count": 194,
   "metadata": {},
   "outputs": [
    {
     "data": {
      "text/plain": [
       "0.9623939353487783"
      ]
     },
     "execution_count": 194,
     "metadata": {},
     "output_type": "execute_result"
    }
   ],
   "source": [
    "kelly_fraction"
   ]
  },
  {
   "cell_type": "markdown",
   "metadata": {},
   "source": [
    "\n",
    "\n"
   ]
  },
  {
   "cell_type": "markdown",
   "metadata": {},
   "source": [
    "#### multiple assets, Optimal Allocation"
   ]
  },
  {
   "cell_type": "code",
   "execution_count": 204,
   "metadata": {},
   "outputs": [],
   "source": [
    "from numpy.linalg import inv"
   ]
  },
  {
   "cell_type": "markdown",
   "metadata": {},
   "source": [
    "$$F^* = C^{-1}M$$"
   ]
  },
  {
   "cell_type": "code",
   "execution_count": 200,
   "metadata": {},
   "outputs": [
    {
     "data": {
      "text/plain": [
       "['ADM', 'AGN', 'AIV', 'ALL', 'ALLE']"
      ]
     },
     "execution_count": 200,
     "metadata": {},
     "output_type": "execute_result"
    }
   ],
   "source": [
    "tickers = list(prices_df)[:5]\n",
    "tickers"
   ]
  },
  {
   "cell_type": "code",
   "execution_count": 201,
   "metadata": {},
   "outputs": [],
   "source": [
    "target = prices_df[tickers]\n",
    "log_returns = np.log(target/target.shift(1)).dropna()"
   ]
  },
  {
   "cell_type": "code",
   "execution_count": 202,
   "metadata": {},
   "outputs": [
    {
     "data": {
      "text/html": [
       "<div>\n",
       "<style scoped>\n",
       "    .dataframe tbody tr th:only-of-type {\n",
       "        vertical-align: middle;\n",
       "    }\n",
       "\n",
       "    .dataframe tbody tr th {\n",
       "        vertical-align: top;\n",
       "    }\n",
       "\n",
       "    .dataframe thead th {\n",
       "        text-align: right;\n",
       "    }\n",
       "</style>\n",
       "<table border=\"1\" class=\"dataframe\">\n",
       "  <thead>\n",
       "    <tr style=\"text-align: right;\">\n",
       "      <th></th>\n",
       "      <th>ADM</th>\n",
       "      <th>AGN</th>\n",
       "      <th>AIV</th>\n",
       "      <th>ALL</th>\n",
       "      <th>ALLE</th>\n",
       "    </tr>\n",
       "    <tr>\n",
       "      <th>Date</th>\n",
       "      <th></th>\n",
       "      <th></th>\n",
       "      <th></th>\n",
       "      <th></th>\n",
       "      <th></th>\n",
       "    </tr>\n",
       "  </thead>\n",
       "  <tbody>\n",
       "    <tr>\n",
       "      <th>2019-03-12</th>\n",
       "      <td>0.001633</td>\n",
       "      <td>0.007609</td>\n",
       "      <td>0.009189</td>\n",
       "      <td>-0.000425</td>\n",
       "      <td>0.002593</td>\n",
       "    </tr>\n",
       "    <tr>\n",
       "      <th>2019-03-13</th>\n",
       "      <td>0.008355</td>\n",
       "      <td>0.018174</td>\n",
       "      <td>0.000596</td>\n",
       "      <td>-0.005543</td>\n",
       "      <td>0.009302</td>\n",
       "    </tr>\n",
       "    <tr>\n",
       "      <th>2019-03-14</th>\n",
       "      <td>0.001847</td>\n",
       "      <td>-0.004462</td>\n",
       "      <td>0.008903</td>\n",
       "      <td>0.003202</td>\n",
       "      <td>-0.006736</td>\n",
       "    </tr>\n",
       "    <tr>\n",
       "      <th>2019-03-15</th>\n",
       "      <td>-0.003929</td>\n",
       "      <td>0.009633</td>\n",
       "      <td>0.000197</td>\n",
       "      <td>0.010493</td>\n",
       "      <td>-0.004064</td>\n",
       "    </tr>\n",
       "    <tr>\n",
       "      <th>2019-03-18</th>\n",
       "      <td>-0.016344</td>\n",
       "      <td>-0.002715</td>\n",
       "      <td>-0.019688</td>\n",
       "      <td>0.001896</td>\n",
       "      <td>0.005527</td>\n",
       "    </tr>\n",
       "    <tr>\n",
       "      <th>...</th>\n",
       "      <td>...</td>\n",
       "      <td>...</td>\n",
       "      <td>...</td>\n",
       "      <td>...</td>\n",
       "      <td>...</td>\n",
       "    </tr>\n",
       "    <tr>\n",
       "      <th>2020-03-04</th>\n",
       "      <td>0.033840</td>\n",
       "      <td>0.020626</td>\n",
       "      <td>0.034917</td>\n",
       "      <td>0.047481</td>\n",
       "      <td>0.041124</td>\n",
       "    </tr>\n",
       "    <tr>\n",
       "      <th>2020-03-05</th>\n",
       "      <td>-0.026771</td>\n",
       "      <td>-0.015688</td>\n",
       "      <td>-0.017306</td>\n",
       "      <td>-0.054281</td>\n",
       "      <td>-0.013765</td>\n",
       "    </tr>\n",
       "    <tr>\n",
       "      <th>2020-03-06</th>\n",
       "      <td>-0.018166</td>\n",
       "      <td>-0.004885</td>\n",
       "      <td>-0.011974</td>\n",
       "      <td>-0.012245</td>\n",
       "      <td>-0.023511</td>\n",
       "    </tr>\n",
       "    <tr>\n",
       "      <th>2020-03-09</th>\n",
       "      <td>-0.064184</td>\n",
       "      <td>-0.034396</td>\n",
       "      <td>-0.054034</td>\n",
       "      <td>-0.113859</td>\n",
       "      <td>-0.040892</td>\n",
       "    </tr>\n",
       "    <tr>\n",
       "      <th>2020-03-10</th>\n",
       "      <td>0.050273</td>\n",
       "      <td>0.020018</td>\n",
       "      <td>0.040898</td>\n",
       "      <td>0.037465</td>\n",
       "      <td>0.029052</td>\n",
       "    </tr>\n",
       "  </tbody>\n",
       "</table>\n",
       "<p>252 rows × 5 columns</p>\n",
       "</div>"
      ],
      "text/plain": [
       "                 ADM       AGN       AIV       ALL      ALLE\n",
       "Date                                                        \n",
       "2019-03-12  0.001633  0.007609  0.009189 -0.000425  0.002593\n",
       "2019-03-13  0.008355  0.018174  0.000596 -0.005543  0.009302\n",
       "2019-03-14  0.001847 -0.004462  0.008903  0.003202 -0.006736\n",
       "2019-03-15 -0.003929  0.009633  0.000197  0.010493 -0.004064\n",
       "2019-03-18 -0.016344 -0.002715 -0.019688  0.001896  0.005527\n",
       "...              ...       ...       ...       ...       ...\n",
       "2020-03-04  0.033840  0.020626  0.034917  0.047481  0.041124\n",
       "2020-03-05 -0.026771 -0.015688 -0.017306 -0.054281 -0.013765\n",
       "2020-03-06 -0.018166 -0.004885 -0.011974 -0.012245 -0.023511\n",
       "2020-03-09 -0.064184 -0.034396 -0.054034 -0.113859 -0.040892\n",
       "2020-03-10  0.050273  0.020018  0.040898  0.037465  0.029052\n",
       "\n",
       "[252 rows x 5 columns]"
      ]
     },
     "execution_count": 202,
     "metadata": {},
     "output_type": "execute_result"
    }
   ],
   "source": [
    "log_returns"
   ]
  },
  {
   "cell_type": "code",
   "execution_count": 205,
   "metadata": {},
   "outputs": [],
   "source": [
    "risk_free = 0.01\n",
    "excess_return = log_returns - risk_free/256"
   ]
  },
  {
   "cell_type": "code",
   "execution_count": 206,
   "metadata": {},
   "outputs": [],
   "source": [
    "# Annualized Excess returns mean\n",
    "M = 256*excess_return.mean()\n",
    "\n",
    "# Annulized Covariance matrix\n",
    "C = 256*excess_return.cov()\n",
    "\n",
    "# Kelly fraction\n",
    "F=np.dot(inv(C), M)"
   ]
  },
  {
   "cell_type": "code",
   "execution_count": 208,
   "metadata": {},
   "outputs": [
    {
     "data": {
      "text/plain": [
       "ADM    -0.121036\n",
       "AGN     0.266889\n",
       "AIV     0.007390\n",
       "ALL     0.063911\n",
       "ALLE    0.295344\n",
       "dtype: float64"
      ]
     },
     "execution_count": 208,
     "metadata": {},
     "output_type": "execute_result"
    }
   ],
   "source": [
    "M"
   ]
  },
  {
   "cell_type": "code",
   "execution_count": 207,
   "metadata": {},
   "outputs": [
    {
     "data": {
      "text/plain": [
       "array([-5.96507684,  2.63869778, -2.38328886,  1.05329052,  8.21475191])"
      ]
     },
     "execution_count": 207,
     "metadata": {},
     "output_type": "execute_result"
    }
   ],
   "source": [
    "F"
   ]
  },
  {
   "cell_type": "markdown",
   "metadata": {},
   "source": [
    "\n",
    "\n"
   ]
  },
  {
   "cell_type": "markdown",
   "metadata": {},
   "source": [
    "#### The kelly Criterion and the Sotck market "
   ]
  },
  {
   "cell_type": "markdown",
   "metadata": {},
   "source": [
    "resource: [Betting with the Kelly criterion](https://quantdare.com/kelly-criterion/)"
   ]
  },
  {
   "cell_type": "code",
   "execution_count": 149,
   "metadata": {},
   "outputs": [],
   "source": [
    "def norm_dev_integral(f, m, st):\n",
    "    val,er = quad(lambda s: (s/(1+f*s))*norm.pdf(s,m,st),m-3*st,m+3*st)\n",
    "    return val"
   ]
  },
  {
   "cell_type": "code",
   "execution_count": 150,
   "metadata": {},
   "outputs": [
    {
     "name": "stdout",
     "output_type": "stream",
     "text": [
      "Optimal Kelly fraction: 1.1974\n"
     ]
    }
   ],
   "source": [
    "# Reference values from Eduard Thorp's article\n",
    "m = .058\n",
    "s = .216\n",
    "\n",
    "x0 = newton(norm_dev_integral, 1.0, args=(m,s))\n",
    "print('Optimal Kelly fraction: {:.4f}'.format(x0))\n"
   ]
  },
  {
   "cell_type": "markdown",
   "metadata": {},
   "source": [
    "\n"
   ]
  },
  {
   "cell_type": "markdown",
   "metadata": {},
   "source": [
    " "
   ]
  },
  {
   "cell_type": "markdown",
   "metadata": {},
   "source": [
    "I changed above a little to implement the paper as same as possible. I'm not sure this is correct\n",
    "\n",
    "> paper: The Kelly Criterion and the Stock Market by Louis M.Rotando and Edward O. Thorp"
   ]
  },
  {
   "cell_type": "code",
   "execution_count": 144,
   "metadata": {},
   "outputs": [],
   "source": [
    "def get_adjusted_sigma(mu, sigma, h):\n",
    "    def func(alpha, mu=mu, sigma=sigma, h=h):\n",
    "        value, error = quad(lambda s: s**2*(norm.pdf(s, mu, sigma)+h), mu-3*sigma, mu+3*sigma)\n",
    "        return value-mu**2-sigma**2\n",
    "    \n",
    "    # use std as initial value\n",
    "    answer = optimize.fsolve(func, sigma)\n",
    "    return answer[0]\n",
    "    \n",
    "def quasi_normal_dev_integral(fraction, mu, sigma):\n",
    "    \n",
    "    # base_line = (B-A)\n",
    "    base_line= (mu+3*sigma) - (mu-3*sigma)\n",
    "\n",
    "    # h = area/base_line\n",
    "    h = (1-(norm(0, 1).cdf(3.) - norm(0, 1).cdf(-3.)))/base_line\n",
    "    \n",
    "    alpha = get_adjusted_sigma(mu, sigma, h)\n",
    "    \n",
    "    pdf_of_return = lambda x: norm.pdf(x, mu, alpha)+h\n",
    "        \n",
    "    value, error = quad(lambda s:(s/(1+fraction*s)) * pdf_of_return(s), mu-3*sigma, mu+3*sigma)\n",
    "    return value"
   ]
  },
  {
   "cell_type": "code",
   "execution_count": 145,
   "metadata": {},
   "outputs": [
    {
     "name": "stdout",
     "output_type": "stream",
     "text": [
      "Optimal Kelly fraction: 1.1906\n"
     ]
    }
   ],
   "source": [
    "# Reference values from Eduard Thorp's article\n",
    "m = .058\n",
    "s = .216\n",
    "x0 = newton(quasi_normal_dev_integral,1.0,args=(m,s))\n",
    "print('Optimal Kelly fraction: {:.4f}'.format(x0))\n"
   ]
  }
 ],
 "metadata": {
  "kernelspec": {
   "display_name": "Python 3",
   "language": "python",
   "name": "python3"
  },
  "language_info": {
   "codemirror_mode": {
    "name": "ipython",
    "version": 3
   },
   "file_extension": ".py",
   "mimetype": "text/x-python",
   "name": "python",
   "nbconvert_exporter": "python",
   "pygments_lexer": "ipython3",
   "version": "3.7.4"
  }
 },
 "nbformat": 4,
 "nbformat_minor": 4
}
